{
 "cells": [
  {
   "cell_type": "markdown",
   "metadata": {
    "colab_type": "text",
    "id": "7kEGGMRKQBdl"
   },
   "source": [
    "# SMM with Gradient Descent"
   ]
  },
  {
   "cell_type": "markdown",
   "metadata": {
    "colab_type": "text",
    "id": "RDGR-iaV3vf1"
   },
   "source": [
    "## Python Imports"
   ]
  },
  {
   "cell_type": "code",
   "execution_count": 27,
   "metadata": {
    "colab": {},
    "colab_type": "code",
    "id": "IlFGxFZ997P4"
   },
   "outputs": [],
   "source": [
    "import numpy as np\n",
    "import random\n",
    "import copy\n",
    "from scipy.stats import pearsonr\n",
    "import matplotlib.pyplot as plt\n",
    "import pickle\n",
    "import pandas as pd\n",
    "from itertools import combinations\n",
    "import csv"
   ]
  },
  {
   "cell_type": "markdown",
   "metadata": {
    "colab_type": "text",
    "id": "L4zgNC-G3xwY"
   },
   "source": [
    "## Data Imports"
   ]
  },
  {
   "cell_type": "markdown",
   "metadata": {},
   "source": [
    "## DEFINE THE PATH TO YOUR COURSE DIRECTORY"
   ]
  },
  {
   "cell_type": "code",
   "execution_count": 2,
   "metadata": {},
   "outputs": [],
   "source": [
    "data_dir = \"data/\""
   ]
  },
  {
   "cell_type": "markdown",
   "metadata": {},
   "source": [
    "### Hannah's partition scheme and loading"
   ]
  },
  {
   "cell_type": "code",
   "execution_count": 3,
   "metadata": {},
   "outputs": [],
   "source": [
    "def load_blosum(filename):\n",
    "    \"\"\"\n",
    "    Read in BLOSUM values into matrix.\n",
    "    \"\"\"\n",
    "    aa = ['A', 'R', 'N' ,'D', 'C', 'Q', 'E', 'G', 'H', 'I', 'L', 'K', 'M', 'F', 'P', 'S', 'T', 'W', 'Y', 'V', 'X']\n",
    "    df = pd.read_csv(filename, sep=' ', comment='#', index_col=0)\n",
    "    return df.loc[aa, aa]\n",
    "\n",
    "def load_peptide_target(filename, MAX_PEP_SEQ_LEN=9):\n",
    "    \"\"\"\n",
    "    Read amino acid sequence of peptides and\n",
    "    corresponding log transformed IC50 binding values from text file.\n",
    "    \"\"\"\n",
    "    df = pd.read_csv(filename, sep=' ', usecols=[0,1], names=['peptide','target'])\n",
    "    return df[df.peptide.apply(len) <= MAX_PEP_SEQ_LEN]\n",
    "\n",
    "def load_pickle(f):\n",
    "    with open(f, 'rb') as source:\n",
    "        s = pickle.load(source)\n",
    "    return s\n",
    "\n",
    "def load_partitions(files):\n",
    "    o = []\n",
    "    for f in files:\n",
    "        data = load_pickle(f)\n",
    "        o += data\n",
    "    return o\n",
    "\n",
    "def assign_cv_partition(partition_files, n_folds=5, n_test=1):\n",
    "    \"\"\"Figure out all combinations of partition_files to assign as train and test data in CV\"\"\"\n",
    "\n",
    "    # how many combinations of partition_files in train part\n",
    "    n_train = n_folds - n_test\n",
    "\n",
    "    # find all combinations of the partition_files with n_train files in each\n",
    "    train_files = list(combinations(partition_files, n_train))\n",
    "\n",
    "    # convert each list element to tuple so (train_partitions, test_partition)\n",
    "    files = [\n",
    "        (x, list(set(partition_files) - set(x))) for x in train_files\n",
    "    ]\n",
    "\n",
    "    return files\n",
    "\n",
    "def data_partition(partition_files, data, blosum_file, batch_size=32, n_features=9):\n",
    "    partitions = load_partitions(partition_files)\n",
    "\n",
    "    selected_data = data.loc[data.peptide.isin(partitions), ].reset_index()\n",
    "\n",
    "    X, y = encode_peptides(selected_data, blosum_file=blosum_file, batch_size=batch_size, n_features=n_features)\n",
    "\n",
    "    # reshape X\n",
    "    X = X.reshape(X.shape[0], -1)\n",
    "\n",
    "    return X, y\n",
    "\n",
    "def encode_peptides(Xin, blosum_file, batch_size, n_features, MAX_PEP_SEQ_LEN=9):\n",
    "    \"\"\"\n",
    "    Encode AA seq of peptides using BLOSUM50.\n",
    "    Returns a tensor of encoded peptides of shape (batch_size, MAX_PEP_SEQ_LEN, n_features)\n",
    "    \"\"\"\n",
    "    blosum = load_blosum(blosum_file)\n",
    "    \n",
    "    batch_size = len(Xin)\n",
    "    n_features = len(blosum)\n",
    "    \n",
    "    Xout = np.zeros((batch_size, MAX_PEP_SEQ_LEN, n_features), dtype=np.int8) # should it be uint? is there a purpose to that?\n",
    "    \n",
    "    for peptide_index, row in Xin.iterrows():\n",
    "        for aa_index in range(len(row.peptide)):\n",
    "            Xout[peptide_index, aa_index] = blosum[ row.peptide[aa_index] ].values\n",
    "            \n",
    "    return Xout, Xin.target.values\n",
    "\n",
    "\n",
    "data = load_peptide_target('data/A0201/A0201.dat')\n",
    "\n",
    "encoding_file = 'data/BLOSUM50' # could change it to data/sparse\n",
    "\n",
    "training_files = ['data/partition_3.txt', 'data/partition_2.txt', 'data/partition_6.txt', 'data/partition_5.txt', 'data/partition_4.txt']\n",
    "testing_files = ['data/test_partitions.pkl']\n",
    "\n",
    "training_partitions = load_partitions(training_files)\n",
    "testing_partitions = load_partitions(testing_files)\n",
    "\n",
    "data = pd.read_csv('data/A0201/A0201.dat', sep=' ', header=None, names=['peptide', 'target'], usecols=[0, 1])\n",
    "\n",
    "training_selected = data.loc[data.peptide.isin(training_partitions),].reset_index()\n",
    "testing_selected = data.loc[data.peptide.isin(testing_partitions),].reset_index()\n",
    "\n",
    "outer_peptides, outer_y=encode_peptides(training_selected, encoding_file,32,9)\n",
    "validation_peptides, validation_targets=encode_peptides(testing_selected, encoding_file,32,9)\n",
    "\n",
    "outer_peptides = outer_peptides.reshape(outer_peptides.shape[0], -1)\n",
    "validation_peptides=validation_peptides.reshape(validation_peptides.shape[0], -1)\n"
   ]
  },
  {
   "cell_type": "markdown",
   "metadata": {
    "colab_type": "text",
    "id": "Uzw3jsGnzw0e"
   },
   "source": [
    "### Alphabet"
   ]
  },
  {
   "cell_type": "code",
   "execution_count": 4,
   "metadata": {
    "colab": {},
    "colab_type": "code",
    "id": "DYcVU4VLzyVe"
   },
   "outputs": [],
   "source": [
    "alphabet_file = data_dir + \"Matrices/alphabet\"\n",
    "alphabet = np.loadtxt(alphabet_file, dtype=str)"
   ]
  },
  {
   "cell_type": "markdown",
   "metadata": {
    "colab_type": "text",
    "id": "ww-p6gy81mqk"
   },
   "source": [
    "## Error Function"
   ]
  },
  {
   "cell_type": "code",
   "execution_count": 5,
   "metadata": {
    "colab": {},
    "colab_type": "code",
    "id": "Hv2nx4Yq1lBf"
   },
   "outputs": [],
   "source": [
    "def cumulative_error(peptides, y, lamb, weights):\n",
    "\n",
    "    error = 0\n",
    "    \n",
    "    for i in range(0, len(peptides)):\n",
    "        \n",
    "        # get peptide\n",
    "        peptide = peptides[i]\n",
    "\n",
    "        # get target prediction value\n",
    "        y_target = y[i]\n",
    "        \n",
    "        # get prediction\n",
    "        y_pred = np.dot(peptide, weights)\n",
    "            \n",
    "        # calculate error\n",
    "        error += 1.0/2 * (y_pred - y_target)**2\n",
    "        \n",
    "    gerror = error + lamb*np.dot(weights, weights)\n",
    "    error /= len(peptides)\n",
    "        \n",
    "    return gerror, error"
   ]
  },
  {
   "cell_type": "markdown",
   "metadata": {},
   "source": [
    "## Predict value for a peptide list"
   ]
  },
  {
   "cell_type": "code",
   "execution_count": 6,
   "metadata": {},
   "outputs": [],
   "source": [
    "def predict(peptides, weights):\n",
    "\n",
    "    pred = []\n",
    "    \n",
    "    for i in range(0, len(peptides)):\n",
    "        \n",
    "        # get peptide\n",
    "        peptide = peptides[i]\n",
    "        \n",
    "        # get prediction\n",
    "        y_pred = np.dot(peptide, weights)\n",
    "        \n",
    "        pred.append(y_pred)\n",
    "        \n",
    "    return pred\n"
   ]
  },
  {
   "cell_type": "markdown",
   "metadata": {},
   "source": [
    "## Calculate MSE between two vectors"
   ]
  },
  {
   "cell_type": "code",
   "execution_count": 7,
   "metadata": {},
   "outputs": [],
   "source": [
    "def cal_mse(vec1, vec2):\n",
    "    \n",
    "    mse = 0\n",
    "    \n",
    "    for i in range(0, len(vec1)):\n",
    "        mse += (vec1[i] - vec2[i])**2\n",
    "        \n",
    "    mse /= len(vec1)\n",
    "    \n",
    "    return( mse)"
   ]
  },
  {
   "cell_type": "markdown",
   "metadata": {
    "colab_type": "text",
    "id": "kfvPqSjL2g7u"
   },
   "source": [
    "## Gradient Descent"
   ]
  },
  {
   "cell_type": "code",
   "execution_count": 8,
   "metadata": {
    "colab": {},
    "colab_type": "code",
    "id": "HMXHiHmE2gh9"
   },
   "outputs": [],
   "source": [
    "def gradient_descent(y_pred, y_target, peptide, weights, lamb_N, epsilon):\n",
    "    \n",
    "    # do is dE/dO\n",
    "    #do = XX\n",
    "    do = y_pred - y_target\n",
    "    \n",
    "    for i in range(0, len(weights)):\n",
    "        \n",
    "        #de_dw_i = XX\n",
    "        de_dw_i = do * peptide[i] + 2 * lamb_N * weights[i]\n",
    "        #weights[i] -= XX\n",
    "        weights[i] -= epsilon * de_dw_i"
   ]
  },
  {
   "cell_type": "markdown",
   "metadata": {},
   "source": [
    "### Make storage for inner loop predictions"
   ]
  },
  {
   "cell_type": "code",
   "execution_count": 9,
   "metadata": {},
   "outputs": [],
   "source": [
    "def make_storage(hyper_parameter_1, hyper_parameter_2):\n",
    "    store_predictions={}\n",
    "\n",
    "    for i in hyper_parameter_1:\n",
    "    \n",
    "        store_predictions[i]={}\n",
    "    \n",
    "        for j in hyper_parameter_2:\n",
    "        \n",
    "            store_predictions[i][j] = []\n",
    "    return(store_predictions)\n",
    "\n"
   ]
  },
  {
   "cell_type": "markdown",
   "metadata": {
    "colab_type": "text",
    "id": "AHXm8HAm4S_u"
   },
   "source": [
    "## Main Loop\n",
    "\n"
   ]
  },
  {
   "cell_type": "code",
   "execution_count": 10,
   "metadata": {},
   "outputs": [
    {
     "name": "stdout",
     "output_type": "stream",
     "text": [
      "Lambda:  1 Epsilon:  5e-05 PCC:  0.7147949281613302\n"
     ]
    }
   ],
   "source": [
    "\n",
    "storage_pred = make_storage([\"a\"],[\"b\"])\n",
    "storage_target = make_storage([\"a\"],[\"b\"])\n",
    "chosen_lambda = 1\n",
    "\n",
    "epochs = 100\n",
    "\n",
    "#Use Hannahs encoding loading\n",
    "encoding_file = 'data/BLOSUM50' # could change it to data/sparse\n",
    "\n",
    "# Random seed \n",
    "np.random.seed( 1 )\n",
    "\n",
    "# early stopping\n",
    "early_stopping = True\n",
    "\n",
    "\n",
    "\n",
    "#get outer training set from outer partition for training with optimal parameters\n",
    "#outer_peptides, outer_y = ### ['data/partition_3.txt', 'data/partition_2.txt', 'data/partition_6.txt', 'data/partition_5.txt', 'data/partition_4.txt']\n",
    "    \n",
    "#get validation set from the outer partition to validate model one\n",
    "#validation_peptides, validation_targets = ### ['data/test_partitions.pkl']\n",
    "\n",
    "\n",
    "\n",
    "N = len(outer_peptides)\n",
    "lamb=chosen_lambda\n",
    "lamb_N = lamb/N\n",
    "epsilon=5e-05\n",
    "stopping_error = np.inf # for early stopping\n",
    "# weights\n",
    "input_dim  = len(outer_peptides[0])\n",
    "w_bound = 0.1\n",
    "weights = np.random.uniform(-w_bound, w_bound, size=input_dim)\n",
    "            \n",
    "# for each training epoch\n",
    "for e in range(0, epochs):\n",
    "    # for each peptide\n",
    "    for i in range(0, N):\n",
    "\n",
    "        # random index\n",
    "        ix = np.random.randint(0, N)\n",
    "\n",
    "        # get peptide       \n",
    "        peptide = outer_peptides[ix]\n",
    "\n",
    "        # get target prediction value\n",
    "        y_target = outer_y[ix]\n",
    "        #print(y_target)\n",
    "        # get initial prediction\n",
    "        y_pred = np.dot(peptide, weights)\n",
    "        #print(y_pred)\n",
    "        # gradient descent \n",
    "        gradient_descent(y_pred, y_target, peptide, weights, lamb_N, epsilon) # updates weights\n",
    "\n",
    "        \n",
    "\n",
    "    # predict on outer test (validation data)\n",
    "    eval_pred = predict(validation_peptides, weights )\n",
    "    eval_mse = cal_mse(validation_targets, eval_pred )\n",
    "    #eval_pcc = pearsonr(validation_targets, eval_pred) don't calculate it unless needed\n",
    "\n",
    "    # early stopping\n",
    "    if early_stopping:\n",
    "\n",
    "        if eval_mse < stopping_error:\n",
    "\n",
    "            stopping_error = eval_mse # save to compare future loops\n",
    "            stopping_pcc = pearsonr(validation_targets, eval_pred)[0]\n",
    "            stopping_pred = eval_pred[:]\n",
    "storage_pred[\"a\"][\"b\"].extend(stopping_pred)\n",
    "storage_target[\"a\"][\"b\"].extend(validation_targets)\n",
    "print(\"Lambda: \", lamb,\"Epsilon: \", epsilon, \"PCC: \", stopping_pcc)\n",
    "\n"
   ]
  },
  {
   "cell_type": "markdown",
   "metadata": {},
   "source": [
    "### Input Marius' code"
   ]
  },
  {
   "cell_type": "code",
   "execution_count": 13,
   "metadata": {},
   "outputs": [
    {
     "name": "stdout",
     "output_type": "stream",
     "text": [
      "<class 'list'>\n"
     ]
    },
    {
     "data": {
      "image/png": "[encoded data removed]",
      "text/plain": [
       "<Figure size 432x288 with 1 Axes>"
      ]
     },
     "metadata": {
      "needs_background": "light"
     },
     "output_type": "display_data"
    },
    {
     "name": "stdout",
     "output_type": "stream",
     "text": [
      "Preds and targets not normally distributed (according to shapiro) -> only do Spearman\n",
      "SCC SpearmanrResult(correlation=0.7374365613970824, pvalue=1.7502553951305114e-152)\n"
     ]
    },
    {
     "data": {
      "image/png": "[encoded data removed]",
      "text/plain": [
       "<Figure size 432x288 with 1 Axes>"
      ]
     },
     "metadata": {
      "needs_background": "light"
     },
     "output_type": "display_data"
    }
   ],
   "source": [
    "import torch\n",
    "from torch.autograd import Variable\n",
    "import torch.nn as nn\n",
    "import torch.nn.functional as F\n",
    "import torch.optim as optim\n",
    "from torch.utils.data import TensorDataset, DataLoader\n",
    "\n",
    "import numpy as np\n",
    "import pandas as pd\n",
    "import matplotlib.pyplot as plt\n",
    "from sklearn.metrics import roc_curve, auc, matthews_corrcoef\n",
    "\n",
    "import seaborn as sns\n",
    "\n",
    "from scipy import stats\n",
    "\n",
    "# BINDER_THRESHOLD (from Helle - I guess we use this, but not sure what the best argumentation would be)\n",
    "BINDER_THRESHOLD = 0.426\n",
    "\n",
    "#fill out\n",
    "x_test =np.asarray(storage_pred[\"a\"][\"b\"])\n",
    "y_test =np.asarray(storage_target[\"a\"][\"b\"])\n",
    "pred =np.asarray(storage_pred[\"a\"][\"b\"])\n",
    "print(type(storage_pred[\"a\"][\"b\"]))\n",
    "targets = np.asarray(storage_target[\"a\"][\"b\"])\n",
    "\n",
    "### ROC/AUC\n",
    "## net.eval depending on method - here ANN\n",
    "#net.eval()\n",
    "#pred = net(x_test)\n",
    "#loss = criterion(pred, y_test)\n",
    "\n",
    "#plot_target_values(data=[(pd.DataFrame(pred.data.numpy(), columns=['target']), 'Prediction'),\n",
    "#                         (test_raw, 'Target')])\n",
    "\n",
    "y_test_class = np.where(y_test.flatten() >= BINDER_THRESHOLD, 1, 0)\n",
    "y_pred_class = np.where(pred.flatten() >= BINDER_THRESHOLD, 1, 0)\n",
    "#y_test_class = np.where(y_test >= BINDER_THRESHOLD, 1, 0)\n",
    "#y_pred_class = np.where(pred >= BINDER_THRESHOLD, 1, 0)\n",
    "\n",
    "#fpr, tpr, threshold = roc_curve(y_test_class, pred.flatten().detach().numpy())\n",
    "fpr, tpr, threshold = roc_curve(y_test_class, pred.flatten())\n",
    "\n",
    "roc_auc = auc(fpr, tpr)\n",
    "\n",
    "\n",
    "\n",
    "def plot_roc_curve():\n",
    "    plt.title('Receiver Operating Characteristic')\n",
    "    plt.plot(fpr, tpr, 'b', label = 'AUC = %0.2f' % roc_auc)\n",
    "    plt.legend(loc = 'lower right')\n",
    "    plt.plot([0, 1], [0, 1],'r--')\n",
    "    plt.xlim([0, 1])\n",
    "    plt.ylim([0, 1])\n",
    "    plt.ylabel('True Positive Rate')\n",
    "    plt.xlabel('False Positive Rate')\n",
    "    plt.show()\n",
    "\n",
    "plot_roc_curve()\n",
    "\n",
    "\n",
    "### SCC and PCC\n",
    "\n",
    "scc = stats.spearmanr(pred, targets)\n",
    "def plot_scc():\n",
    "    plt.title('Spearmans Correlation Coefficient')\n",
    "    #plt.scatter(y_test.flatten().detach().numpy(), pred.flatten().detach().numpy(), label = 'SCC = %0.2f' % scc)\n",
    "    plt.scatter(y_test, pred, label = 'SCC = %0.2f' % scc[0])\n",
    "    plt.legend(loc = 'lower right')\n",
    "    plt.ylabel('Predicted')\n",
    "    plt.xlabel('Validation targets')\n",
    "    plt.show()\n",
    "\n",
    "\n",
    "pcc = stats.pearsonr(pred, targets)\n",
    "def plot_pcc():\n",
    "    plt.title('Pearsons Correlation Coefficient')\n",
    "    #plt.scatter(y_test.flatten().detach().numpy(), pred.flatten().detach().numpy(), label = 'PCC = %0.2f' % pcc)\n",
    "    plt.scatter(y_test, pred, label = 'PCC = %0.2f' % pcc[0])\n",
    "    plt.legend(loc = 'lower right')\n",
    "    plt.ylabel('Predicted')\n",
    "    plt.xlabel('Validation targets')\n",
    "    plt.show()\n",
    "\n",
    "\n",
    "### Spearman\n",
    "if stats.shapiro(pred)[1] > 0.05 and stats.shapiro(targets)[1] > 0.05:\n",
    "    print('Preds and targets normally distributed (according to shapiro)')\n",
    "    print('PCC', stats.pearsonr(pred, targets))\n",
    "    plot_pcc()\n",
    "    print('SCC', stats.spearmanr(pred, targets))\n",
    "    plot_scc()\n",
    "else:\n",
    "    print('Preds and targets not normally distributed (according to shapiro) -> only do Spearman')\n",
    "    print('SCC', stats.spearmanr(pred, targets))\n",
    "    plot_scc()"
   ]
  },
  {
   "cell_type": "markdown",
   "metadata": {},
   "source": [
    "### Code for Hannah to make comparative plots"
   ]
  },
  {
   "cell_type": "code",
   "execution_count": 61,
   "metadata": {},
   "outputs": [],
   "source": [
    "# Best weights from outer loop\n",
    "\n",
    "Hannah_weights=[0.0294279,-0.01799774,0.00881117,-0.01061445,-0.00362678,0.00278902,-0.0142268,-0.00516224,0.02140116,0.06757149,-0.06734245,0.00994926,0.03051233,-0.0545,0.0255861,0.05255853,0.01935181,-0.00742817,-0.06216534,0.02726204,0.06008355,0.03498114,-0.03196142,0.02021266,0.03131575,-0.01613499,-0.03232758,-0.03113148,-0.03519959,-0.00765824,0.00876278,-0.02954185,0.00613928,-0.0229228,0.00701509,-0.01033367,0.0084963,-0.00454838,-0.01192415,-0.00052661,-0.01226085,0.02111508,-0.01561105,-0.01216794,-0.06983957,0.01410866,-0.00814402,0.07042516,0.0307609,-0.0038495,0.04544555,0.03225133,-0.02371291,-0.00449118,-0.0238077,-0.05162127,0.02517059,0.08233519,-0.01448752,0.00277984,0.02774853,0.00059775,0.03373287,-0.00528239,-0.00243205,-0.0099172,-0.01420157,-0.00637491,-0.01340493,-0.02137411,0.01306964,0.01346978,0.00628878,-0.02970415,-0.0055546,-0.01613896,0.0003441,-0.00462879,-0.02921856,-0.02375896,-0.00366497,0.02052536,-0.01284542,-0.00277019,-0.04645067,0.01430928,0.11040722,0.00929266,-0.01106119,-0.10069887,-0.01765468,0.02379294,-0.00337456,-0.00847296,-0.02772761,-0.06109968,-0.00525104,-0.01291084,-0.0187987,-0.01290103,0.06142094,-0.0050189,0.06392011,-0.01300322,-0.00619793,0.00389364,-0.01381762,-0.02153875,-0.02185224,-0.00803255,0.00030812,-0.02046788,0.02449066,0.02790529,0.00489986,-0.01268361,0.00385041,-0.0266745,-0.06273933,0.0154493,0.03759752,-0.0163005,0.0006202,0.0163516,0.01313384,0.01312801,-0.00872655,-0.00326819,-0.04584115,-0.00515692,-0.0009834,0.03050439,-0.0167052,0.00621953,-0.00833903,-0.01296962,0.01091865,0.03402522,-0.01583335,-0.00014861,0.00893016,0.01763936,-0.0275079,0.01775032,-0.02412762,0.01050522,0.01305708,-0.04509626,0.02460351,-0.02825578,0.00985626,0.0032692,0.01556903,0.00051019,0.02480562,-0.01445783,-0.05763981,0.06135121,-0.00869194,-0.01288933,0.00884672,0.00564513,0.02136976,-0.02085559,0.00813219,0.02904764,0.01137837,-0.05861588,-0.00292961,-0.02056224,-0.02913724,0.07457515,-0.01205798,0.05868146,0.07403353,-0.08104796,-0.02152113,0.01207038,-0.01162087,0.00328795,-0.0078607,0.03533587,-0.01819491,0.0239793,-0.0124951,-0.01002155,0.02579918,0.0486488,-0.00414094]"
   ]
  },
  {
   "cell_type": "code",
   "execution_count": 77,
   "metadata": {},
   "outputs": [
    {
     "name": "stdout",
     "output_type": "stream",
     "text": [
      "3089\n",
      "3089\n",
      "3089\n"
     ]
    }
   ],
   "source": [
    "Hannah_files = ['data/test_partitions.pkl','data/partition_3.txt', 'data/partition_2.txt', 'data/partition_6.txt', 'data/partition_5.txt', 'data/partition_4.txt']\n",
    "\n",
    "Hannah_partitions = load_partitions(Hannah_files)\n",
    "\n",
    "data = pd.read_csv('data/A0201/A0201.dat', sep=' ', header=None, names=['peptide', 'target'], usecols=[0, 1])\n",
    "\n",
    "Hannah_selected = data.loc[data.peptide.isin(Hannah_partitions),].reset_index()\n",
    "Hannah_peptide_names = pd.read_csv('data/A0201/A0201.dat', sep=' ', header=None, names=['peptide', 'target'], usecols=[0, 1])\n",
    "\n",
    "Hannah_peptides, Hannah_y=encode_peptides(Hannah_selected, encoding_file,32,9)\n",
    "\n",
    "Hannah_peptides = Hannah_peptides.reshape(Hannah_peptides.shape[0], -1)\n",
    "len(Hannah_peptides)\n",
    "\n",
    "Hannah_eval_pred = predict(Hannah_peptides, Hannah_weights )\n",
    "\n",
    "print(len(Hannah_eval_pred))\n",
    "print(len(Hannah_partitions))\n",
    "print(len(Hannah_y))"
   ]
  },
  {
   "cell_type": "code",
   "execution_count": 83,
   "metadata": {},
   "outputs": [],
   "source": [
    "csv_table=[Hannah_selected['peptide'],Hannah_y,Hannah_eval_pred]"
   ]
  },
  {
   "cell_type": "code",
   "execution_count": 84,
   "metadata": {},
   "outputs": [],
   "source": [
    "#np.savetxt(\"smm_target_prediction_all_targets.txt\", np.array(csv_table).T, delimiter=\",\",fmt='%s')\n"
   ]
  },
  {
   "cell_type": "code",
   "execution_count": 91,
   "metadata": {},
   "outputs": [
    {
     "data": {
      "text/plain": [
       "3089"
      ]
     },
     "execution_count": 91,
     "metadata": {},
     "output_type": "execute_result"
    }
   ],
   "source": [
    "#sum(Hannah_y == Hannah_selected['target'])"
   ]
  },
  {
   "cell_type": "code",
   "execution_count": 88,
   "metadata": {},
   "outputs": [
    {
     "data": {
      "text/plain": [
       "0       AAAATCALV\n",
       "1       AAAKTPVIV\n",
       "2       AAEQRRSTI\n",
       "3       ACMDGFEVV\n",
       "4       ADLRFASEF\n",
       "          ...    \n",
       "3084    YVGDTSMMV\n",
       "3085    YVHGDTYSL\n",
       "3086    YVIGLLPQS\n",
       "3087    YVLLHLLVV\n",
       "3088    YYYNFSEDL\n",
       "Name: peptide, Length: 3089, dtype: object"
      ]
     },
     "execution_count": 88,
     "metadata": {},
     "output_type": "execute_result"
    }
   ],
   "source": [
    " #Hannah_selected['peptide']"
   ]
  },
  {
   "cell_type": "code",
   "execution_count": 93,
   "metadata": {},
   "outputs": [
    {
     "data": {
      "text/plain": [
       "array([ 6.49276473e-01,  6.34817040e-02,  9.74889023e-02,  7.03893875e-02,\n",
       "        6.68913342e-02,  4.61621058e-01,  4.94525384e-01,  5.36711684e-01,\n",
       "        7.35639166e-01,  5.13347717e-01,  5.58272772e-01,  5.82358055e-01,\n",
       "        1.31113591e-01,  1.43269743e-01,  2.71633913e-01,  1.36592457e-01,\n",
       "        4.48381596e-01,  2.65915855e-02,  3.28202586e-01, -2.21851852e-01,\n",
       "        2.10264607e-01, -3.03189452e-02, -2.62239672e-01,  3.52319020e-01,\n",
       "        3.13681759e-01,  2.47596933e-01,  4.92079735e-01,  3.25436537e-02,\n",
       "        5.53024793e-01,  4.13602129e-01,  7.68471604e-01,  5.74999216e-01,\n",
       "        6.85986409e-01,  6.82824311e-01,  6.79816013e-01,  7.81424214e-01,\n",
       "        7.29869067e-01,  4.50684998e-01,  6.08671976e-02,  8.81795230e-02,\n",
       "        5.22202201e-01,  4.97245553e-01,  5.63993918e-01,  2.82629687e-01,\n",
       "        1.24370825e-01,  5.16159773e-01,  1.27585085e-01,  4.14764837e-01,\n",
       "        6.99569131e-02,  4.14036337e-01, -1.61210734e-01, -2.61644898e-01,\n",
       "        1.73243638e-01, -5.44551359e-02,  3.81653523e-01,  2.79807212e-01,\n",
       "        1.98953459e-01,  7.33996645e-01,  6.34087314e-01,  6.70911474e-01,\n",
       "        4.83600503e-01,  5.05168335e-01,  6.08492332e-01,  4.91768740e-01,\n",
       "        3.02290184e-01,  4.55619172e-02,  1.88925862e-01, -5.01937563e-02,\n",
       "        4.31035344e-01,  3.86045531e-01,  3.86743517e-01,  2.81869725e-01,\n",
       "        2.82363596e-01,  3.29301496e-01,  2.02844584e-01,  5.44373512e-01,\n",
       "        5.27063453e-01,  3.48888277e-01,  6.01464976e-01,  4.92512877e-01,\n",
       "        5.05105896e-01,  3.52373720e-01,  4.22473331e-01,  2.18972697e-01,\n",
       "        5.01576793e-01,  8.08054440e-02,  4.27327379e-01,  3.52614016e-01,\n",
       "        1.91411024e-01,  4.53286279e-01,  7.85919180e-01,  5.74194157e-01,\n",
       "        5.83076913e-01,  5.93735342e-01,  2.72829588e-01,  5.29787859e-01,\n",
       "        6.57374610e-01,  3.85134222e-01,  5.78868234e-01,  1.94203032e-01,\n",
       "        2.90322332e-01,  2.77031685e-01,  6.06125097e-01,  5.62605527e-01,\n",
       "        1.36662911e-01,  2.54960511e-01,  2.87803928e-01,  4.99807599e-01,\n",
       "        4.76974366e-01, -1.03534548e-01, -1.26646940e-01,  6.46742851e-01,\n",
       "        4.46617819e-01, -4.82410322e-02,  3.08606585e-01,  5.82482355e-01,\n",
       "        4.53367591e-01,  8.46695878e-02,  2.65300988e-01,  6.08737057e-01,\n",
       "        2.03747293e-01,  4.96651062e-01,  5.08820155e-01,  5.73259524e-01,\n",
       "        5.37599328e-01,  4.66383888e-01,  4.55597537e-01, -1.94306389e-01,\n",
       "        3.55955031e-02,  2.19501762e-01,  3.78256785e-01, -4.04698892e-01,\n",
       "        2.69146884e-01,  6.33815940e-02,  2.44480258e-01,  2.20915422e-01,\n",
       "        5.31172639e-01,  5.84067974e-01,  4.64744756e-01,  4.87328010e-01,\n",
       "       -3.20483638e-02,  4.05489058e-01,  4.05430742e-01,  6.27514509e-01,\n",
       "        5.91903379e-01,  6.72770127e-01,  4.52460136e-01,  3.05183298e-01,\n",
       "       -3.84571253e-02,  4.24544830e-01,  6.22560711e-01,  5.91355963e-01,\n",
       "        6.20911767e-01,  4.03253444e-01, -8.94991225e-02, -1.24680341e-01,\n",
       "        1.88655259e-01,  1.77995847e-01,  4.78130136e-02,  3.64272291e-01,\n",
       "        1.91414235e-01,  4.91089289e-01,  5.39021564e-01,  5.26463637e-01,\n",
       "        5.87465736e-01,  5.43506167e-01,  4.91234249e-01,  4.06352481e-01,\n",
       "        4.58026302e-01,  2.20201880e-01,  4.45568594e-01,  1.64881958e-01,\n",
       "        3.98349914e-01,  7.64406306e-01,  3.86241517e-01,  3.60630909e-01,\n",
       "        4.30828880e-01,  2.86586834e-01,  6.42870891e-01,  3.72760586e-01,\n",
       "       -4.16878987e-02,  2.88399882e-01,  3.78146332e-01,  5.16426080e-01,\n",
       "        8.07813883e-02,  3.18462130e-01,  1.91389024e-01,  4.90736722e-02,\n",
       "        1.95525938e-01,  5.63072509e-01,  1.25194124e-01, -3.74966546e-01,\n",
       "       -1.62525379e-01, -4.09196649e-02, -7.13562796e-02, -1.00133285e-01,\n",
       "       -1.31043063e-01, -8.07285099e-02, -1.69357497e-01,  2.29437566e-01,\n",
       "        3.57298934e-01,  2.40615531e-01,  9.52629164e-02,  1.79957564e-01,\n",
       "        3.21188093e-02,  9.37204086e-02, -1.02079869e-01,  1.52978626e-01,\n",
       "        5.07299449e-01,  4.95151161e-01,  4.85764316e-01,  5.25370723e-01,\n",
       "        8.17863433e-01,  7.09617877e-01,  7.49644384e-01,  7.41569569e-01,\n",
       "        8.60134621e-01,  2.57947814e-01,  4.19964097e-01,  5.52953106e-01,\n",
       "        3.04729534e-01,  2.77929804e-01, -1.82595243e-01,  4.41590912e-01,\n",
       "        4.35991212e-01,  4.14866502e-01,  3.37361546e-01,  2.07962448e-01,\n",
       "        2.47304322e-01,  1.01716259e-01, -1.16920256e-01,  2.15446619e-01,\n",
       "        5.09137019e-02,  3.43257505e-01, -1.08526548e-03, -7.68799239e-02,\n",
       "        1.38748965e-01,  6.54240848e-01,  3.19983347e-01,  7.32664018e-01,\n",
       "        7.73386979e-01,  5.23149123e-01,  8.18840439e-03,  2.51391815e-01,\n",
       "        5.16075228e-01,  5.56671353e-01,  7.19189417e-01,  8.07408946e-01,\n",
       "        3.52456824e-01,  5.84690488e-01,  2.28910972e-01,  3.14592599e-01,\n",
       "        1.38518743e-01,  5.86427838e-01,  1.94942595e-01,  6.08862810e-01,\n",
       "        1.23765579e-01,  7.23902902e-01,  6.70340239e-01,  4.69768108e-01,\n",
       "        4.75761981e-01,  4.76986112e-01,  2.03013657e-01,  2.86623746e-01,\n",
       "        3.33027117e-01,  2.88779133e-01,  6.25247939e-01,  4.56020782e-01,\n",
       "        1.36213844e-01,  3.47225836e-01,  1.65121500e-01,  3.55156144e-02,\n",
       "        2.30264905e-01,  4.42637822e-01,  4.71738684e-01,  1.45691971e-01,\n",
       "        2.24086221e-01,  3.70686529e-01,  1.40993978e-01,  3.32776515e-01,\n",
       "        3.87286033e-01, -2.25766257e-01, -1.70844024e-01,  6.72797458e-01,\n",
       "        4.36246133e-01,  4.99819445e-01,  3.06626310e-01,  1.10836404e-01,\n",
       "        6.57480309e-01,  5.73065324e-01,  5.57439768e-02, -1.81007926e-01,\n",
       "        2.77849772e-01,  1.56178137e-01,  2.35025411e-01,  1.50611702e-01,\n",
       "        5.08968271e-01,  9.90499158e-02,  2.92010660e-01,  2.32053860e-02,\n",
       "        4.78926099e-01,  5.89558030e-01,  4.10402897e-01,  6.84553378e-01,\n",
       "        5.41558990e-01, -8.62564601e-03,  8.30831499e-01,  8.79078330e-02,\n",
       "        1.29794563e-01,  1.72852211e-01, -1.36434746e-01,  3.49423771e-02,\n",
       "        5.03167681e-01,  1.04694432e-01,  4.15314101e-01, -4.63789335e-02,\n",
       "        1.31986496e-01, -1.32344320e-01, -9.32940476e-03,  7.42209086e-01,\n",
       "        2.65062301e-01,  2.80775174e-01,  4.41718889e-01,  6.57770258e-01,\n",
       "        1.22164541e-01,  3.51018556e-02,  3.34775310e-01,  6.25482686e-01,\n",
       "        4.45955667e-01,  1.48377390e-01,  7.93791565e-02,  3.24378401e-01,\n",
       "        2.44380629e-01,  2.36659700e-01,  4.14701497e-01,  5.62356726e-01,\n",
       "        3.80589784e-01,  4.65261217e-01,  2.96256925e-01,  5.93584751e-01,\n",
       "        4.14701497e-01,  7.14615212e-01,  6.03272132e-01,  5.46525087e-01,\n",
       "        6.28459251e-01,  6.36183431e-01,  6.97848747e-01,  2.38345887e-01,\n",
       "        2.62819247e-01,  1.91085521e-01, -7.45720511e-02,  3.84106502e-01,\n",
       "        3.37864865e-01,  5.04382783e-01,  6.65909762e-01,  2.39368144e-01,\n",
       "        3.60021535e-01,  5.99555617e-01,  1.76290885e-01,  3.71941807e-02,\n",
       "        8.11784761e-02,  1.57816912e-01,  4.22287880e-01,  3.21625557e-01,\n",
       "       -6.22811007e-03, -9.77570500e-02,  1.71944958e-01,  1.42670117e-01,\n",
       "        4.07086005e-01,  3.17875895e-01,  3.71525294e-01,  3.78645124e-01,\n",
       "       -2.66577572e-01, -1.15489819e-01,  5.71001166e-02,  8.80467853e-02,\n",
       "       -6.89145551e-02,  2.58721398e-01,  3.83596216e-01,  3.83086004e-01,\n",
       "       -1.30805456e-01,  2.05763916e-01,  4.56658360e-02, -1.35958999e-01,\n",
       "        5.35103020e-01,  3.87701423e-01,  6.82479136e-01,  7.43485362e-01,\n",
       "        6.43813437e-01,  8.94244384e-01,  7.60377426e-01,  6.62131134e-01,\n",
       "        5.22456340e-01,  4.92718554e-01,  6.25130155e-01,  5.36250581e-01,\n",
       "        1.24439881e-01,  6.47659347e-01,  5.35739406e-01,  6.06252839e-01,\n",
       "        4.28588466e-01,  6.98224075e-01,  3.12486632e-01,  3.58282284e-01,\n",
       "        1.48910859e-01,  6.98391610e-01,  4.16650026e-01,  1.12402662e-01,\n",
       "        1.99475216e-01,  1.42589370e-01,  1.14856786e-01,  4.24180914e-01,\n",
       "        4.55812869e-01,  6.71905228e-01,  7.33164081e-01,  5.27486456e-01,\n",
       "        7.71652239e-01,  1.76256215e-01,  1.97550034e-01,  5.64039668e-01,\n",
       "        6.45540470e-01,  6.72698729e-01,  9.85692608e-01,  7.07884737e-01,\n",
       "        6.11761992e-01,  6.64412118e-01,  8.54670584e-01,  5.51516931e-01,\n",
       "        4.18504672e-01,  4.81395001e-01,  6.77016711e-01,  4.82993384e-01,\n",
       "        8.08457205e-01,  4.67860283e-01,  2.29239673e-01,  3.15093483e-01,\n",
       "        6.45268540e-02,  5.34520961e-01,  2.07791480e-01,  3.43798303e-01,\n",
       "        2.30970461e-01,  4.06167893e-01,  3.92873829e-01,  2.71450536e-01,\n",
       "        2.88897731e-01,  2.03658102e-01,  7.25785931e-02,  8.82287602e-01,\n",
       "        5.56738595e-01, -1.68799643e-03, -2.00541983e-01,  4.05134696e-01,\n",
       "        4.93220483e-02,  1.95637721e-01,  4.15027678e-02, -8.32493740e-02,\n",
       "        5.00669702e-01, -1.07615635e-01,  4.55925822e-01, -3.19639696e-01,\n",
       "        4.16711979e-02,  5.44561809e-01,  6.74670269e-01,  4.01677864e-01,\n",
       "        3.87589014e-01,  6.77115411e-01,  4.80800799e-01,  1.75670150e-01,\n",
       "        1.12962194e-01,  8.07752670e-02,  2.59202075e-01,  1.24073882e-01,\n",
       "       -3.68209604e-02,  2.13726950e-01,  1.31234986e-01,  4.30063748e-01,\n",
       "       -2.64304377e-01,  5.94246024e-01,  5.70997100e-01,  3.53220178e-01,\n",
       "        6.11009416e-01,  5.98287593e-01,  6.35190404e-01,  2.64565098e-02,\n",
       "        2.76202391e-01,  3.97558289e-01, -1.42059746e-01,  1.15280244e-01,\n",
       "        1.00004827e-01,  5.05733917e-01,  3.22578968e-01,  2.77082887e-01,\n",
       "        1.92814696e-01,  2.69503799e-01,  9.40197690e-02,  5.10300194e-01,\n",
       "        4.01306110e-01,  1.06145476e-01,  6.13477673e-01,  3.34606888e-01,\n",
       "        2.97536344e-01,  8.36781696e-01,  2.32527534e-01,  1.34786460e-01,\n",
       "        2.78523641e-01,  2.05878371e-02,  5.11741199e-01,  3.16134817e-01,\n",
       "        5.85178999e-01,  2.69950285e-01,  6.99828434e-01,  6.20120598e-01,\n",
       "        6.16989724e-01,  6.88783902e-01,  5.29221132e-01,  5.35534199e-01,\n",
       "        1.09046486e-01,  2.88262737e-01,  3.54694360e-01, -5.34432408e-02,\n",
       "        4.39884607e-01,  3.37446857e-01,  6.49247193e-01,  7.04401813e-01,\n",
       "        9.40941720e-02, -8.12535401e-02,  2.23495248e-01, -4.13631636e-02,\n",
       "        4.86374012e-01,  3.23755473e-01,  1.17119499e-01,  3.44855728e-01,\n",
       "       -1.80903878e-01,  1.74696184e-01, -8.05679855e-02, -4.63817776e-02,\n",
       "       -1.28798888e-01, -7.35412408e-02,  1.86216606e-01,  8.01328301e-03,\n",
       "        1.63200396e-01,  4.13124146e-01, -4.32950502e-02,  1.35317707e-01,\n",
       "        1.62194621e-01,  4.41138299e-01,  6.02381803e-02,  2.78538489e-01,\n",
       "        4.76741843e-04, -8.32504550e-02,  1.62313684e-01,  3.83718404e-01,\n",
       "        4.80133951e-01,  8.91804374e-01,  6.65166399e-01,  7.67111231e-01,\n",
       "        5.94969136e-01,  5.49634504e-01,  4.06190863e-01,  5.51800628e-01,\n",
       "        3.51395989e-01,  3.31999571e-01,  2.78635819e-01,  4.71771610e-01,\n",
       "        1.98660096e-01,  2.02206365e-01,  2.41733330e-01,  5.37086767e-01,\n",
       "        6.01165029e-01,  5.75275930e-01,  4.57423778e-01,  5.69751391e-01,\n",
       "        4.52847785e-01,  3.07200677e-01,  1.72917157e-01,  2.11515326e-01,\n",
       "        5.44488423e-01,  2.07347955e-01,  4.10991400e-01,  6.05089735e-01,\n",
       "        7.52089779e-01,  2.84774518e-01,  4.85197493e-01,  8.10726024e-01,\n",
       "        5.91929855e-01,  3.32552604e-01, -2.66827896e-01,  4.46697004e-02,\n",
       "       -4.39417153e-02,  2.47836255e-01,  1.46307236e-01,  5.68795265e-01,\n",
       "        3.30101759e-01,  2.50898061e-01,  5.34327627e-01,  1.38312255e-01,\n",
       "        4.00272057e-01,  3.60693139e-01,  1.12378886e-01,  7.18001933e-01,\n",
       "        9.16201567e-02,  7.26331015e-01,  6.75257840e-01,  4.80313086e-01,\n",
       "        4.77465939e-01,  4.45516955e-01,  7.23880834e-01,  4.57730015e-01,\n",
       "        2.68679764e-01,  2.58061614e-01,  3.91666771e-01,  3.00554172e-01,\n",
       "        7.37742769e-01,  2.07678241e-01,  2.84967175e-01, -2.79415766e-01,\n",
       "        4.35669404e-01,  3.43785496e-01,  4.46499180e-01,  5.26330076e-01,\n",
       "        5.15679873e-01,  5.12641246e-01, -3.63624314e-01,  4.65788113e-01,\n",
       "        1.68993906e-02,  3.32414845e-01, -1.73912189e-01,  3.75261967e-01,\n",
       "        4.09909992e-01,  4.21746061e-01,  3.01020974e-01,  1.66546945e-01,\n",
       "        1.25509762e-01,  3.30612896e-01,  2.58392560e-01,  2.76312188e-01,\n",
       "        2.38589421e-01,  3.80901675e-01,  3.24598982e-01,  1.43013026e-01,\n",
       "        3.57746801e-01,  4.80721952e-01,  8.00505096e-02,  3.02548566e-01,\n",
       "        6.70142376e-03,  2.45936388e-01,  2.09739056e-01,  4.85414241e-01,\n",
       "        5.19282748e-01,  8.55364985e-01,  5.03392174e-01,  4.10173310e-01,\n",
       "        6.66064509e-01,  8.69009460e-01,  5.76101217e-01,  4.43087437e-01,\n",
       "        4.96494011e-01,  4.42557065e-01,  5.40477760e-01,  3.54959068e-01,\n",
       "        5.57397046e-02,  3.58662650e-01,  4.46493965e-01,  4.71708006e-01,\n",
       "        5.21606219e-01,  1.54721456e-01,  3.27960534e-01,  1.69864950e-01,\n",
       "        2.57268518e-01,  6.38096022e-01,  8.52414750e-01,  5.04194082e-01,\n",
       "        4.28616150e-01,  7.45281326e-01,  3.11773672e-01, -2.63385326e-01,\n",
       "        3.96575591e-01,  4.49325647e-01,  5.86343950e-01, -1.19886870e-02,\n",
       "        3.80910973e-01,  4.07366195e-01,  2.17938786e-01,  2.48727342e-01,\n",
       "        3.05244809e-01,  5.83846371e-01,  6.92358692e-01,  5.69788390e-01,\n",
       "        5.35534199e-01,  6.28035258e-01, -1.36562433e-01,  6.32881744e-01,\n",
       "        3.15615763e-01,  2.14845456e-01,  8.41463030e-01,  6.80263092e-01,\n",
       "        5.14288519e-01,  6.02004928e-02,  3.02366405e-01,  2.73655144e-01,\n",
       "        3.86194587e-01,  4.27214603e-01,  2.63522994e-04,  2.46817210e-01,\n",
       "        5.98985835e-01, -3.74395770e-01,  1.28419686e-01,  4.61377851e-02,\n",
       "        4.79080531e-02,  1.23010537e-01, -2.99238291e-02,  3.59741878e-03,\n",
       "       -8.39215996e-02, -2.52591324e-01,  3.97493545e-01,  4.78355922e-01,\n",
       "        4.04799421e-01,  1.58862447e-01,  1.27549642e-01,  2.86637634e-01,\n",
       "        5.28068145e-01,  2.23532100e-01,  7.01323734e-01,  6.75567524e-01,\n",
       "        4.81382389e-01,  5.72489088e-01,  6.83021276e-01,  6.80346356e-01,\n",
       "        7.53027386e-01,  4.17237925e-01,  6.20962031e-01,  1.36990911e-01,\n",
       "        4.36706079e-01,  3.77792556e-01,  4.53009032e-01,  3.98008832e-01,\n",
       "        2.72683739e-01,  2.91860982e-01,  2.11191936e-01,  3.90126358e-01,\n",
       "        8.04239892e-01,  6.24360506e-01,  4.00334332e-01,  3.52319077e-01,\n",
       "        5.58094465e-01,  2.37567404e-01,  3.04222952e-01,  1.07530117e-01,\n",
       "        2.32000234e-01,  2.93013255e-01, -8.75426814e-02,  4.40337093e-01,\n",
       "        4.44661542e-01,  5.10976672e-01,  3.74324582e-01,  4.99066963e-01,\n",
       "        5.79561668e-01,  7.17230676e-01,  5.49759716e-01,  4.56545334e-01,\n",
       "        8.72073501e-01,  6.84351845e-01,  6.84351845e-01,  5.43056169e-01,\n",
       "        2.90191129e-01,  3.21568823e-01,  3.75148699e-01,  1.91537826e-01,\n",
       "        3.03979453e-01,  1.16821508e-01,  1.72159984e-01,  4.05442953e-01,\n",
       "        1.91168242e-01,  2.76940939e-01,  2.34314266e-01,  4.27169415e-01,\n",
       "        4.75361282e-01,  5.25362195e-01,  6.74763440e-01,  1.97623561e-01,\n",
       "        3.82326977e-01,  5.47378846e-01,  2.01284007e-01,  1.06294391e-01,\n",
       "        3.48029975e-02,  4.69320184e-01,  5.77025991e-01,  5.83743446e-01,\n",
       "        7.06115176e-01,  5.72356431e-01,  5.62796545e-01,  6.90893741e-01,\n",
       "        6.16818221e-01,  8.14800642e-01,  7.46465957e-01,  2.90750496e-01,\n",
       "        8.43320110e-02,  1.71347777e-01,  6.69990614e-02,  3.92561355e-01,\n",
       "        1.24154352e-01,  2.39247104e-01,  3.55396336e-01,  9.83867041e-01,\n",
       "        5.13962814e-01,  4.76937969e-01,  1.43640915e-01,  2.55247258e-01,\n",
       "        1.89805670e-01,  2.33505243e-01,  3.04429283e-01,  1.76044021e-01,\n",
       "        1.68413636e-01,  1.93354502e-01,  4.00769974e-01, -2.44012862e-01,\n",
       "        7.32435212e-02,  2.35718288e-01,  5.07574348e-01,  7.14472884e-01,\n",
       "        6.81398899e-01,  5.29405853e-01,  4.86929420e-01,  1.09337418e-01,\n",
       "       -1.07888020e-01,  3.91677513e-01,  5.65452060e-01,  6.61055668e-01,\n",
       "        5.48209313e-01,  5.26422133e-01,  7.53734028e-02,  1.98898634e-01,\n",
       "        3.45828781e-01, -6.39710745e-02,  3.54381702e-01, -1.40944858e-02,\n",
       "        2.76421459e-01, -3.01985465e-02,  2.62553632e-01,  4.70123150e-01,\n",
       "        6.33988104e-01,  5.73495197e-01,  4.10337391e-01,  4.82356974e-01,\n",
       "        5.95925335e-01,  4.73831975e-01,  4.77608701e-01,  7.25540197e-03,\n",
       "        6.97708903e-01,  6.30421819e-01,  3.33278604e-01,  1.91224576e-01,\n",
       "        2.38453786e-01, -3.01993987e-02,  3.32419173e-01,  3.65185956e-01,\n",
       "        5.53827731e-01,  4.09972460e-01,  6.57707376e-01,  6.88724729e-01,\n",
       "       -2.14796151e-01, -5.23898508e-02,  1.35651774e-01, -1.41295369e-01,\n",
       "        3.96155829e-01,  3.80327926e-01,  5.73650419e-01, -4.67076208e-02,\n",
       "        9.34903354e-02,  1.63875573e-01,  5.28388056e-01,  4.16834030e-01,\n",
       "        7.23255854e-01,  6.32462495e-01,  5.83233223e-01,  5.03503778e-01,\n",
       "        5.80336234e-01,  3.88349189e-01,  8.03713479e-01, -4.43549839e-02,\n",
       "       -6.96196742e-02,  8.92118178e-02,  3.55577519e-01,  2.41032488e-01])"
      ]
     },
     "execution_count": 93,
     "metadata": {},
     "output_type": "execute_result"
    }
   ],
   "source": [
    " pred.flatten()"
   ]
  },
  {
   "cell_type": "code",
   "execution_count": null,
   "metadata": {},
   "outputs": [],
   "source": []
  }
 ],
 "metadata": {
  "colab": {
   "collapsed_sections": [],
   "name": "smm_gradient_descent_v2.ipynb",
   "provenance": [],
   "version": "0.3.2"
  },
  "kernelspec": {
   "display_name": "Python 3",
   "language": "python",
   "name": "python3"
  },
  "language_info": {
   "codemirror_mode": {
    "name": "ipython",
    "version": 3
   },
   "file_extension": ".py",
   "mimetype": "text/x-python",
   "name": "python",
   "nbconvert_exporter": "python",
   "pygments_lexer": "ipython3",
   "version": "3.7.6"
  }
 },
 "nbformat": 4,
 "nbformat_minor": 1
}
