{
 "cells": [
  {
   "cell_type": "markdown",
   "metadata": {
    "colab_type": "text",
    "id": "7kEGGMRKQBdl"
   },
   "source": [
    "# SMM with Gradient Descent"
   ]
  },
  {
   "cell_type": "markdown",
   "metadata": {
    "colab_type": "text",
    "id": "RDGR-iaV3vf1"
   },
   "source": [
    "## Python Imports"
   ]
  },
  {
   "cell_type": "code",
   "execution_count": 1,
   "metadata": {
    "colab": {},
    "colab_type": "code",
    "id": "IlFGxFZ997P4"
   },
   "outputs": [],
   "source": [
    "import numpy as np\n",
    "import random\n",
    "import copy\n",
    "from scipy.stats import pearsonr\n",
    "import matplotlib.pyplot as plt\n",
    "import pickle\n",
    "import pandas as pd\n",
    "from itertools import combinations"
   ]
  },
  {
   "cell_type": "markdown",
   "metadata": {
    "colab_type": "text",
    "id": "L4zgNC-G3xwY"
   },
   "source": [
    "## Data Imports"
   ]
  },
  {
   "cell_type": "markdown",
   "metadata": {},
   "source": [
    "## DEFINE THE PATH TO YOUR COURSE DIRECTORY"
   ]
  },
  {
   "cell_type": "code",
   "execution_count": 2,
   "metadata": {},
   "outputs": [],
   "source": [
    "data_dir = \"data/\""
   ]
  },
  {
   "cell_type": "markdown",
   "metadata": {},
   "source": [
    "### Hannah's partition scheme and loading"
   ]
  },
  {
   "cell_type": "code",
   "execution_count": 3,
   "metadata": {},
   "outputs": [],
   "source": [
    "def load_blosum(filename):\n",
    "    \"\"\"\n",
    "    Read in BLOSUM values into matrix.\n",
    "    \"\"\"\n",
    "    aa = ['A', 'R', 'N' ,'D', 'C', 'Q', 'E', 'G', 'H', 'I', 'L', 'K', 'M', 'F', 'P', 'S', 'T', 'W', 'Y', 'V', 'X']\n",
    "    df = pd.read_csv(filename, sep=' ', comment='#', index_col=0)\n",
    "    return df.loc[aa, aa]\n",
    "\n",
    "def load_peptide_target(filename, MAX_PEP_SEQ_LEN=9):\n",
    "    \"\"\"\n",
    "    Read amino acid sequence of peptides and\n",
    "    corresponding log transformed IC50 binding values from text file.\n",
    "    \"\"\"\n",
    "    df = pd.read_csv(filename, sep=' ', usecols=[0,1], names=['peptide','target'])\n",
    "    return df[df.peptide.apply(len) <= MAX_PEP_SEQ_LEN]\n",
    "\n",
    "def load_pickle(f):\n",
    "    with open(f, 'rb') as source:\n",
    "        s = pickle.load(source)\n",
    "    return s\n",
    "\n",
    "def load_partitions(files):\n",
    "    o = []\n",
    "    for f in files:\n",
    "        data = load_pickle(f)\n",
    "        o += data\n",
    "    return o\n",
    "\n",
    "def assign_cv_partition(partition_files, n_folds=5, n_test=1):\n",
    "    \"\"\"Figure out all combinations of partition_files to assign as train and test data in CV\"\"\"\n",
    "\n",
    "    # how many combinations of partition_files in train part\n",
    "    n_train = n_folds - n_test\n",
    "\n",
    "    # find all combinations of the partition_files with n_train files in each\n",
    "    train_files = list(combinations(partition_files, n_train))\n",
    "\n",
    "    # convert each list element to tuple so (train_partitions, test_partition)\n",
    "    files = [\n",
    "        (x, list(set(partition_files) - set(x))) for x in train_files\n",
    "    ]\n",
    "\n",
    "    return files\n",
    "\n",
    "def data_partition(partition_files, data, blosum_file, batch_size=32, n_features=9):\n",
    "    partitions = load_partitions(partition_files)\n",
    "\n",
    "    selected_data = data.loc[data.peptide.isin(partitions), ].reset_index()\n",
    "\n",
    "    X, y = encode_peptides(selected_data, blosum_file=blosum_file, batch_size=batch_size, n_features=n_features)\n",
    "\n",
    "    # reshape X\n",
    "    X = X.reshape(X.shape[0], -1)\n",
    "\n",
    "    return X, y\n",
    "\n",
    "def encode_peptides(Xin, blosum_file, batch_size, n_features, MAX_PEP_SEQ_LEN=9):\n",
    "    \"\"\"\n",
    "    Encode AA seq of peptides using BLOSUM50.\n",
    "    Returns a tensor of encoded peptides of shape (batch_size, MAX_PEP_SEQ_LEN, n_features)\n",
    "    \"\"\"\n",
    "    blosum = load_blosum(blosum_file)\n",
    "    \n",
    "    batch_size = len(Xin)\n",
    "    n_features = len(blosum)\n",
    "    \n",
    "    Xout = np.zeros((batch_size, MAX_PEP_SEQ_LEN, n_features), dtype=np.int8) # should it be uint? is there a purpose to that?\n",
    "    \n",
    "    for peptide_index, row in Xin.iterrows():\n",
    "        for aa_index in range(len(row.peptide)):\n",
    "            Xout[peptide_index, aa_index] = blosum[ row.peptide[aa_index] ].values\n",
    "            \n",
    "    return Xout, Xin.target.values\n",
    "\n",
    "data = load_peptide_target('data/A0201/A0201.dat')\n"
   ]
  },
  {
   "cell_type": "markdown",
   "metadata": {
    "colab_type": "text",
    "id": "Uzw3jsGnzw0e"
   },
   "source": [
    "### Alphabet"
   ]
  },
  {
   "cell_type": "code",
   "execution_count": 4,
   "metadata": {
    "colab": {},
    "colab_type": "code",
    "id": "DYcVU4VLzyVe"
   },
   "outputs": [],
   "source": [
    "alphabet_file = data_dir + \"Matrices/alphabet\"\n",
    "alphabet = np.loadtxt(alphabet_file, dtype=str)"
   ]
  },
  {
   "cell_type": "markdown",
   "metadata": {
    "colab_type": "text",
    "id": "ww-p6gy81mqk"
   },
   "source": [
    "## Error Function"
   ]
  },
  {
   "cell_type": "code",
   "execution_count": 5,
   "metadata": {
    "colab": {},
    "colab_type": "code",
    "id": "Hv2nx4Yq1lBf"
   },
   "outputs": [],
   "source": [
    "def cumulative_error(peptides, y, lamb, weights):\n",
    "\n",
    "    error = 0\n",
    "    \n",
    "    for i in range(0, len(peptides)):\n",
    "        \n",
    "        # get peptide\n",
    "        peptide = peptides[i]\n",
    "\n",
    "        # get target prediction value\n",
    "        y_target = y[i]\n",
    "        \n",
    "        # get prediction\n",
    "        y_pred = np.dot(peptide, weights)\n",
    "            \n",
    "        # calculate error\n",
    "        error += 1.0/2 * (y_pred - y_target)**2\n",
    "        \n",
    "    gerror = error + lamb*np.dot(weights, weights)\n",
    "    error /= len(peptides)\n",
    "        \n",
    "    return gerror, error"
   ]
  },
  {
   "cell_type": "markdown",
   "metadata": {},
   "source": [
    "## Predict value for a peptide list"
   ]
  },
  {
   "cell_type": "code",
   "execution_count": 6,
   "metadata": {},
   "outputs": [],
   "source": [
    "def predict(peptides, weights):\n",
    "\n",
    "    pred = []\n",
    "    \n",
    "    for i in range(0, len(peptides)):\n",
    "        \n",
    "        # get peptide\n",
    "        peptide = peptides[i]\n",
    "        \n",
    "        # get prediction\n",
    "        y_pred = np.dot(peptide, weights)\n",
    "        \n",
    "        pred.append(y_pred)\n",
    "        \n",
    "    return pred\n"
   ]
  },
  {
   "cell_type": "markdown",
   "metadata": {},
   "source": [
    "## Calculate MSE between two vectors"
   ]
  },
  {
   "cell_type": "code",
   "execution_count": 7,
   "metadata": {},
   "outputs": [],
   "source": [
    "def cal_mse(vec1, vec2):\n",
    "    \n",
    "    mse = 0\n",
    "    \n",
    "    for i in range(0, len(vec1)):\n",
    "        mse += (vec1[i] - vec2[i])**2\n",
    "        \n",
    "    mse /= len(vec1)\n",
    "    \n",
    "    return( mse)"
   ]
  },
  {
   "cell_type": "markdown",
   "metadata": {
    "colab_type": "text",
    "id": "kfvPqSjL2g7u"
   },
   "source": [
    "## Gradient Descent"
   ]
  },
  {
   "cell_type": "code",
   "execution_count": 8,
   "metadata": {
    "colab": {},
    "colab_type": "code",
    "id": "HMXHiHmE2gh9"
   },
   "outputs": [],
   "source": [
    "def gradient_descent(y_pred, y_target, peptide, weights, lamb_N, epsilon):\n",
    "    \n",
    "    # do is dE/dO\n",
    "    #do = XX\n",
    "    do = y_pred - y_target\n",
    "    \n",
    "    for i in range(0, len(weights)):\n",
    "        \n",
    "        #de_dw_i = XX\n",
    "        de_dw_i = do * peptide[i] + 2 * lamb_N * weights[i]\n",
    "        #weights[i] -= XX\n",
    "        weights[i] -= epsilon * de_dw_i"
   ]
  },
  {
   "cell_type": "markdown",
   "metadata": {},
   "source": [
    "### Make storage for inner loop predictions"
   ]
  },
  {
   "cell_type": "code",
   "execution_count": 9,
   "metadata": {},
   "outputs": [],
   "source": [
    "def make_storage(hyper_parameter_1, hyper_parameter_2):\n",
    "    store_predictions={}\n",
    "\n",
    "    for i in hyper_parameter_1:\n",
    "    \n",
    "        store_predictions[i]={}\n",
    "    \n",
    "        for j in hyper_parameter_2:\n",
    "        \n",
    "            store_predictions[i][j] = []\n",
    "    return(store_predictions)\n",
    "\n"
   ]
  },
  {
   "cell_type": "markdown",
   "metadata": {
    "colab_type": "text",
    "id": "AHXm8HAm4S_u"
   },
   "source": [
    "## Main Loop\n",
    "\n"
   ]
  },
  {
   "cell_type": "code",
   "execution_count": 10,
   "metadata": {},
   "outputs": [
    {
     "name": "stdout",
     "output_type": "stream",
     "text": [
      "0\n",
      "Lambda:  10 Epsilon:  5e-05 PCC:  0.6534968265472312\n",
      "1\n",
      "Lambda:  0.1 Epsilon:  5e-05 PCC:  0.7030511675299668\n",
      "2\n",
      "Lambda:  0.001 Epsilon:  5e-05 PCC:  0.7420535908473012\n",
      "3\n",
      "Lambda:  0.01 Epsilon:  5e-05 PCC:  0.721616142439651\n",
      "4\n",
      "Lambda:  1 Epsilon:  5e-05 PCC:  0.6803707819979028\n"
     ]
    }
   ],
   "source": [
    "partition_files = ['data/partition_3.txt', 'data/partition_2.txt', 'data/partition_6.txt', 'data/partition_5.txt', 'data/partition_4.txt']\n",
    "\n",
    "storage_pred = make_storage([\"a\"],[\"b\"])\n",
    "storage_target = make_storage([\"a\"],[\"b\"])\n",
    "K1 = 5\n",
    "best_lambda_list = [10,0.1,0.001,0.01,1]\n",
    "\n",
    "epochs = 100\n",
    "\n",
    "#Use Hannahs encoding loading\n",
    "encoding_file = 'data/BLOSUM50' # could change it to data/sparse\n",
    "\n",
    "# Random seed \n",
    "np.random.seed( 1 )\n",
    "\n",
    "# early stopping\n",
    "early_stopping = True\n",
    "\n",
    "outer_partitions = assign_cv_partition(partition_files, n_folds=K1)\n",
    "\n",
    "for k, (outer_train, outer_test) in enumerate(outer_partitions):\n",
    "    #get outer training set from outer partition for training with optimal parameters\n",
    "    outer_peptides, outer_y = data_partition(outer_train, data=data, blosum_file=encoding_file)\n",
    "    \n",
    "    #get validation set from the outer partition to validate model one\n",
    "    validation_peptides, validation_targets = data_partition(outer_test, data=data, blosum_file=encoding_file)\n",
    "    print(k)\n",
    "    N = len(outer_peptides)\n",
    "    lamb=best_lambda_list[k]\n",
    "    lamb_N = lamb/N\n",
    "    epsilon=5e-05\n",
    "    stopping_error = np.inf # for early stopping\n",
    "    # weights\n",
    "    input_dim  = len(outer_peptides[0])\n",
    "    w_bound = 0.1\n",
    "    weights = np.random.uniform(-w_bound, w_bound, size=input_dim)\n",
    "    best_weights = np.zeros(input_dim)\n",
    "                \n",
    "    # for each training epoch\n",
    "    for e in range(0, epochs):\n",
    "\n",
    "        # for each peptide\n",
    "        for i in range(0, N):\n",
    "\n",
    "            # random index\n",
    "            ix = np.random.randint(0, N)\n",
    "\n",
    "            # get peptide       \n",
    "            peptide = outer_peptides[ix]\n",
    "\n",
    "            # get target prediction value\n",
    "            y_target = outer_y[ix]\n",
    "            #print(y_target)\n",
    "            # get initial prediction\n",
    "            y_pred = np.dot(peptide, weights)\n",
    "            #print(y_pred)\n",
    "            # gradient descent \n",
    "            gradient_descent(y_pred, y_target, peptide, weights, lamb_N, epsilon) # updates weights\n",
    "\n",
    "        #compute error, needed for plot\n",
    "        #gerr, mse = cumulative_error(outer_peptides, outer_y, lamb, weights) \n",
    "\n",
    "        # predict on training data, only needed for plots\n",
    "        #train_pred = predict( outer_peptides, weights )\n",
    "        #train_mse = cal_mse( outer_y, train_pred )\n",
    "        #train_pcc = pearsonr( outer_y, train_pred )\n",
    "\n",
    "        # predict on outer test (validation data)\n",
    "        eval_pred = predict(validation_peptides, weights )\n",
    "        eval_mse = cal_mse(validation_targets, eval_pred )\n",
    "        #eval_pcc = pearsonr(validation_targets, eval_pred) don't calculate it unless needed\n",
    "\n",
    "        # early stopping\n",
    "        if early_stopping:\n",
    "\n",
    "            if eval_mse < stopping_error:\n",
    "\n",
    "                stopping_error = eval_mse # save to compare future loops\n",
    "                stopping_pcc = pearsonr(validation_targets, eval_pred)[0]\n",
    "                stopping_pred = eval_pred[:]\n",
    "    storage_pred[\"a\"][\"b\"].extend(stopping_pred)\n",
    "    storage_target[\"a\"][\"b\"].extend(validation_targets)\n",
    "    print(\"Lambda: \", lamb,\"Epsilon: \", epsilon, \"PCC: \", stopping_pcc)\n"
   ]
  },
  {
   "cell_type": "markdown",
   "metadata": {},
   "source": [
    "### Input Marius' code"
   ]
  },
  {
   "cell_type": "code",
   "execution_count": 39,
   "metadata": {},
   "outputs": [
    {
     "name": "stdout",
     "output_type": "stream",
     "text": [
      "<class 'list'>\n"
     ]
    },
    {
     "data": {
      "image/png": "[encoded data removed]",
      "text/plain": [
       "<Figure size 432x288 with 1 Axes>"
      ]
     },
     "metadata": {
      "needs_background": "light"
     },
     "output_type": "display_data"
    },
    {
     "name": "stdout",
     "output_type": "stream",
     "text": [
      "Preds and targets normally distributed (according to shapiro)\n",
      "PCC (0.6999869897813613, 0.0)\n"
     ]
    },
    {
     "name": "stderr",
     "output_type": "stream",
     "text": [
      "No handles with labels found to put in legend.\n"
     ]
    },
    {
     "data": {
      "image/png": "[encoded data removed]",
      "text/plain": [
       "<Figure size 432x288 with 1 Axes>"
      ]
     },
     "metadata": {
      "needs_background": "light"
     },
     "output_type": "display_data"
    },
    {
     "name": "stderr",
     "output_type": "stream",
     "text": [
      "No handles with labels found to put in legend.\n"
     ]
    },
    {
     "name": "stdout",
     "output_type": "stream",
     "text": [
      "SCC SpearmanrResult(correlation=0.7201120523358466, pvalue=0.0)\n"
     ]
    },
    {
     "data": {
      "image/png": "[encoded data removed]",
      "text/plain": [
       "<Figure size 432x288 with 1 Axes>"
      ]
     },
     "metadata": {
      "needs_background": "light"
     },
     "output_type": "display_data"
    }
   ],
   "source": [
    "import torch\n",
    "from torch.autograd import Variable\n",
    "import torch.nn as nn\n",
    "import torch.nn.functional as F\n",
    "import torch.optim as optim\n",
    "from torch.utils.data import TensorDataset, DataLoader\n",
    "\n",
    "import numpy as np\n",
    "import pandas as pd\n",
    "import matplotlib.pyplot as plt\n",
    "from sklearn.metrics import roc_curve, auc, matthews_corrcoef\n",
    "\n",
    "import seaborn as sns\n",
    "\n",
    "from scipy import stats\n",
    "\n",
    "# BINDER_THRESHOLD (from Helle - I guess we use this, but not sure what the best argumentation would be)\n",
    "BINDER_THRESHOLD = 0.426\n",
    "\n",
    "#fill out\n",
    "x_test =np.asarray(storage_pred[\"a\"][\"b\"])\n",
    "y_test =np.asarray(storage_target[\"a\"][\"b\"])\n",
    "pred =np.asarray(storage_pred[\"a\"][\"b\"])\n",
    "print(type(storage_pred[\"a\"][\"b\"]))\n",
    "targets = np.asarray(storage_target[\"a\"][\"b\"])\n",
    "\n",
    "### ROC/AUC\n",
    "## net.eval depending on method - here ANN\n",
    "#net.eval()\n",
    "#pred = net(x_test)\n",
    "#loss = criterion(pred, y_test)\n",
    "\n",
    "#plot_target_values(data=[(pd.DataFrame(pred.data.numpy(), columns=['target']), 'Prediction'),\n",
    "#                         (test_raw, 'Target')])\n",
    "\n",
    "y_test_class = np.where(y_test.flatten() >= BINDER_THRESHOLD, 1, 0)\n",
    "y_pred_class = np.where(pred.flatten() >= BINDER_THRESHOLD, 1, 0)\n",
    "#y_test_class = np.where(y_test >= BINDER_THRESHOLD, 1, 0)\n",
    "#y_pred_class = np.where(pred >= BINDER_THRESHOLD, 1, 0)\n",
    "\n",
    "#fpr, tpr, threshold = roc_curve(y_test_class, pred.flatten().detach().numpy())\n",
    "fpr, tpr, threshold = roc_curve(y_test_class, pred.flatten())\n",
    "\n",
    "roc_auc = auc(fpr, tpr)\n",
    "\n",
    "\n",
    "\n",
    "def plot_roc_curve():\n",
    "    plt.title('Receiver Operating Characteristic')\n",
    "    plt.plot(fpr, tpr, 'b', label = 'AUC = %0.2f' % roc_auc)\n",
    "    plt.legend(loc = 'lower right')\n",
    "    plt.plot([0, 1], [0, 1],'r--')\n",
    "    plt.xlim([0, 1])\n",
    "    plt.ylim([0, 1])\n",
    "    plt.ylabel('True Positive Rate')\n",
    "    plt.xlabel('False Positive Rate')\n",
    "    plt.show()\n",
    "\n",
    "plot_roc_curve()\n",
    "\n",
    "\n",
    "### SCC and PCC\n",
    "\n",
    "scc = stats.spearmanr(pred, targets)\n",
    "def plot_scc():\n",
    "    plt.title('Spearmans Correlation Coefficient')\n",
    "    #plt.scatter(y_test.flatten().detach().numpy(), pred.flatten().detach().numpy(), label = 'SCC = %0.2f' % scc)\n",
    "    plt.scatter(y_test, pred)#, label = 'SCC = %0.2f' % scc)\n",
    "    plt.legend(loc = 'lower right')\n",
    "    plt.ylabel('Predicted')\n",
    "    plt.xlabel('Validation targets')\n",
    "    plt.show()\n",
    "\n",
    "\n",
    "pcc = stats.pearsonr(pred, targets)\n",
    "def plot_pcc():\n",
    "    plt.title('Pearsons Correlation Coefficient')\n",
    "    #plt.scatter(y_test.flatten().detach().numpy(), pred.flatten().detach().numpy(), label = 'PCC = %0.2f' % pcc)\n",
    "    plt.scatter(y_test, pred)#, label = 'PCC = %0.2f' % pcc)\n",
    "    plt.legend(loc = 'lower right')\n",
    "    plt.ylabel('Predicted')\n",
    "    plt.xlabel('Validation targets')\n",
    "    plt.show()\n",
    "\n",
    "\n",
    "### Spearman\n",
    "if stats.shapiro(pred)[1] < 0.05 and stats.shapiro(targets)[1] < 0.05:\n",
    "    print('Preds and targets normally distributed (according to shapiro)')\n",
    "    print('PCC', stats.pearsonr(pred, targets))\n",
    "    plot_pcc()\n",
    "    print('SCC', stats.spearmanr(pred, targets))\n",
    "    plot_scc()\n",
    "else:\n",
    "    print('Preds and targets not normally distributed (according to shapiro) -> only do Spearman')\n",
    "    print('SCC', stats.spearman(pred, targets))\n",
    "    plot_scc()"
   ]
  },
  {
   "cell_type": "code",
   "execution_count": null,
   "metadata": {},
   "outputs": [],
   "source": []
  }
 ],
 "metadata": {
  "colab": {
   "collapsed_sections": [],
   "name": "smm_gradient_descent_v2.ipynb",
   "provenance": [],
   "version": "0.3.2"
  },
  "kernelspec": {
   "display_name": "Python 3",
   "language": "python",
   "name": "python3"
  },
  "language_info": {
   "codemirror_mode": {
    "name": "ipython",
    "version": 3
   },
   "file_extension": ".py",
   "mimetype": "text/x-python",
   "name": "python",
   "nbconvert_exporter": "python",
   "pygments_lexer": "ipython3",
   "version": "3.7.6"
  }
 },
 "nbformat": 4,
 "nbformat_minor": 1
}
